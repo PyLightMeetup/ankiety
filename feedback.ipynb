{
 "cells": [
  {
   "cell_type": "markdown",
   "metadata": {},
   "source": [
    "# Ankiety PyLight"
   ]
  },
  {
   "cell_type": "markdown",
   "metadata": {},
   "source": [
    "Zadania:\n",
    "- Procent płci / meetup - Czy stosunek płci się utrzymuje, czy zmienia się?\n",
    "- Nowa zmienna: indeks zadowolenia ze spotkania (prez1-przyd + prez2-przyd + prez1-przyst + prez2-przyst)\\*5 -> wartość od 5 do 100\n",
    "  - wg grup wiekowych (wiek2)\n",
    "  - wg płci\n",
    "  - \\[potrzeba więcej danych\\] wg uczestnictwa - czy nowi uczestnicy lepiej oceniają meetup? (\"freq2\"[To moje pierwsze!])\n",
    "- Proponowane tematy (temat) - najczęstsze słowa?\n",
    "- Skąd ludzie wiedzą o spotkaniu? - najczęstsze wartości, procentowo; stacked barchart by meetup"
   ]
  },
  {
   "cell_type": "code",
   "execution_count": 60,
   "metadata": {},
   "outputs": [],
   "source": [
    "%matplotlib inline\n",
    "\n",
    "import matplotlib\n",
    "import numpy as np\n",
    "import matplotlib.pyplot as plt\n",
    "import pandas as pd\n",
    "import seaborn as sns"
   ]
  },
  {
   "cell_type": "code",
   "execution_count": 46,
   "metadata": {},
   "outputs": [],
   "source": [
    "resp = pd.read_csv('responses_merged.csv', index_col='meetup')"
   ]
  },
  {
   "cell_type": "code",
   "execution_count": 25,
   "metadata": {},
   "outputs": [
    {
     "data": {
      "text/html": [
       "<div>\n",
       "<style scoped>\n",
       "    .dataframe tbody tr th:only-of-type {\n",
       "        vertical-align: middle;\n",
       "    }\n",
       "\n",
       "    .dataframe tbody tr th {\n",
       "        vertical-align: top;\n",
       "    }\n",
       "\n",
       "    .dataframe thead th {\n",
       "        text-align: right;\n",
       "    }\n",
       "</style>\n",
       "<table border=\"1\" class=\"dataframe\">\n",
       "  <thead>\n",
       "    <tr style=\"text-align: right;\">\n",
       "      <th></th>\n",
       "      <th>panel-przyd</th>\n",
       "      <th>widz</th>\n",
       "      <th>wiek1</th>\n",
       "      <th>prez2-przyd</th>\n",
       "      <th>panel-future</th>\n",
       "      <th>znajomosc</th>\n",
       "      <th>freq2</th>\n",
       "      <th>prez1-przyd</th>\n",
       "      <th>druk</th>\n",
       "      <th>temat</th>\n",
       "      <th>freq1</th>\n",
       "      <th>sex</th>\n",
       "      <th>prez2-przyst</th>\n",
       "      <th>prez1-przyst</th>\n",
       "      <th>wiek2</th>\n",
       "      <th>skad</th>\n",
       "      <th>cel</th>\n",
       "      <th>ang</th>\n",
       "      <th>panel-przyst</th>\n",
       "    </tr>\n",
       "    <tr>\n",
       "      <th>meetup</th>\n",
       "      <th></th>\n",
       "      <th></th>\n",
       "      <th></th>\n",
       "      <th></th>\n",
       "      <th></th>\n",
       "      <th></th>\n",
       "      <th></th>\n",
       "      <th></th>\n",
       "      <th></th>\n",
       "      <th></th>\n",
       "      <th></th>\n",
       "      <th></th>\n",
       "      <th></th>\n",
       "      <th></th>\n",
       "      <th></th>\n",
       "      <th></th>\n",
       "      <th></th>\n",
       "      <th></th>\n",
       "      <th></th>\n",
       "    </tr>\n",
       "  </thead>\n",
       "  <tbody>\n",
       "    <tr>\n",
       "      <th>1</th>\n",
       "      <td>NaN</td>\n",
       "      <td>Tak, na żywo</td>\n",
       "      <td>18-30</td>\n",
       "      <td>5.0</td>\n",
       "      <td>NaN</td>\n",
       "      <td>jeszcze nic nie wiem;robię obecnie kurs typu b...</td>\n",
       "      <td>NaN</td>\n",
       "      <td>4.0</td>\n",
       "      <td>NaN</td>\n",
       "      <td>NaN</td>\n",
       "      <td>NaN</td>\n",
       "      <td>Mężczyzna</td>\n",
       "      <td>NaN</td>\n",
       "      <td>5.0</td>\n",
       "      <td>NaN</td>\n",
       "      <td>od kogoś z teamu PyLight</td>\n",
       "      <td>nie mam na razie preferencji, najpierw chcę po...</td>\n",
       "      <td>Tak</td>\n",
       "      <td>NaN</td>\n",
       "    </tr>\n",
       "    <tr>\n",
       "      <th>1</th>\n",
       "      <td>NaN</td>\n",
       "      <td>Tak, na żywo</td>\n",
       "      <td>18-30</td>\n",
       "      <td>5.0</td>\n",
       "      <td>NaN</td>\n",
       "      <td>używam Pythona hobbystycznie;używam Pythona za...</td>\n",
       "      <td>NaN</td>\n",
       "      <td>4.0</td>\n",
       "      <td>NaN</td>\n",
       "      <td>NaN</td>\n",
       "      <td>NaN</td>\n",
       "      <td>Mężczyzna</td>\n",
       "      <td>3.0</td>\n",
       "      <td>2.0</td>\n",
       "      <td>NaN</td>\n",
       "      <td>od kogoś z teamu PyLight</td>\n",
       "      <td>web (back-end, web scraping, boty);data scienc...</td>\n",
       "      <td>Tak</td>\n",
       "      <td>NaN</td>\n",
       "    </tr>\n",
       "    <tr>\n",
       "      <th>1</th>\n",
       "      <td>NaN</td>\n",
       "      <td>Nie</td>\n",
       "      <td>30-40</td>\n",
       "      <td>NaN</td>\n",
       "      <td>NaN</td>\n",
       "      <td>używam Pythona zawodowo</td>\n",
       "      <td>NaN</td>\n",
       "      <td>NaN</td>\n",
       "      <td>NaN</td>\n",
       "      <td>NaN</td>\n",
       "      <td>NaN</td>\n",
       "      <td>Mężczyzna</td>\n",
       "      <td>NaN</td>\n",
       "      <td>NaN</td>\n",
       "      <td>NaN</td>\n",
       "      <td>od kogoś z teamu PyLight</td>\n",
       "      <td>web (back-end, web scraping, boty);nauka (obli...</td>\n",
       "      <td>Tak</td>\n",
       "      <td>NaN</td>\n",
       "    </tr>\n",
       "    <tr>\n",
       "      <th>1</th>\n",
       "      <td>NaN</td>\n",
       "      <td>Tak, na żywo</td>\n",
       "      <td>18-30</td>\n",
       "      <td>NaN</td>\n",
       "      <td>NaN</td>\n",
       "      <td>używam Pythona zawodowo</td>\n",
       "      <td>NaN</td>\n",
       "      <td>NaN</td>\n",
       "      <td>NaN</td>\n",
       "      <td>NaN</td>\n",
       "      <td>NaN</td>\n",
       "      <td>Mężczyzna</td>\n",
       "      <td>NaN</td>\n",
       "      <td>NaN</td>\n",
       "      <td>NaN</td>\n",
       "      <td>na facebooku</td>\n",
       "      <td>web (back-end, web scraping, boty);nauka (obli...</td>\n",
       "      <td>Tak</td>\n",
       "      <td>NaN</td>\n",
       "    </tr>\n",
       "    <tr>\n",
       "      <th>1</th>\n",
       "      <td>NaN</td>\n",
       "      <td>Tak, na żywo</td>\n",
       "      <td>18-30</td>\n",
       "      <td>5.0</td>\n",
       "      <td>NaN</td>\n",
       "      <td>używam Pythona hobbystycznie;używam Pythona za...</td>\n",
       "      <td>NaN</td>\n",
       "      <td>5.0</td>\n",
       "      <td>NaN</td>\n",
       "      <td>NaN</td>\n",
       "      <td>NaN</td>\n",
       "      <td>Kobieta</td>\n",
       "      <td>5.0</td>\n",
       "      <td>5.0</td>\n",
       "      <td>NaN</td>\n",
       "      <td>od kogoś z teamu PyLight</td>\n",
       "      <td>nie mam na razie preferencji, najpierw chcę po...</td>\n",
       "      <td>Tak</td>\n",
       "      <td>NaN</td>\n",
       "    </tr>\n",
       "  </tbody>\n",
       "</table>\n",
       "</div>"
      ],
      "text/plain": [
       "        panel-przyd          widz  wiek1  prez2-przyd  panel-future  \\\n",
       "meetup                                                                \n",
       "1               NaN  Tak, na żywo  18-30          5.0           NaN   \n",
       "1               NaN  Tak, na żywo  18-30          5.0           NaN   \n",
       "1               NaN           Nie  30-40          NaN           NaN   \n",
       "1               NaN  Tak, na żywo  18-30          NaN           NaN   \n",
       "1               NaN  Tak, na żywo  18-30          5.0           NaN   \n",
       "\n",
       "                                                znajomosc freq2  prez1-przyd  \\\n",
       "meetup                                                                         \n",
       "1       jeszcze nic nie wiem;robię obecnie kurs typu b...   NaN          4.0   \n",
       "1       używam Pythona hobbystycznie;używam Pythona za...   NaN          4.0   \n",
       "1                                 używam Pythona zawodowo   NaN          NaN   \n",
       "1                                 używam Pythona zawodowo   NaN          NaN   \n",
       "1       używam Pythona hobbystycznie;używam Pythona za...   NaN          5.0   \n",
       "\n",
       "       druk temat freq1        sex  prez2-przyst  prez1-przyst wiek2  \\\n",
       "meetup                                                                 \n",
       "1       NaN   NaN   NaN  Mężczyzna           NaN           5.0   NaN   \n",
       "1       NaN   NaN   NaN  Mężczyzna           3.0           2.0   NaN   \n",
       "1       NaN   NaN   NaN  Mężczyzna           NaN           NaN   NaN   \n",
       "1       NaN   NaN   NaN  Mężczyzna           NaN           NaN   NaN   \n",
       "1       NaN   NaN   NaN    Kobieta           5.0           5.0   NaN   \n",
       "\n",
       "                            skad  \\\n",
       "meetup                             \n",
       "1       od kogoś z teamu PyLight   \n",
       "1       od kogoś z teamu PyLight   \n",
       "1       od kogoś z teamu PyLight   \n",
       "1                   na facebooku   \n",
       "1       od kogoś z teamu PyLight   \n",
       "\n",
       "                                                      cel  ang  panel-przyst  \n",
       "meetup                                                                        \n",
       "1       nie mam na razie preferencji, najpierw chcę po...  Tak           NaN  \n",
       "1       web (back-end, web scraping, boty);data scienc...  Tak           NaN  \n",
       "1       web (back-end, web scraping, boty);nauka (obli...  Tak           NaN  \n",
       "1       web (back-end, web scraping, boty);nauka (obli...  Tak           NaN  \n",
       "1       nie mam na razie preferencji, najpierw chcę po...  Tak           NaN  "
      ]
     },
     "execution_count": 25,
     "metadata": {},
     "output_type": "execute_result"
    }
   ],
   "source": [
    "resp.head()"
   ]
  },
  {
   "cell_type": "code",
   "execution_count": 26,
   "metadata": {},
   "outputs": [
    {
     "name": "stdout",
     "output_type": "stream",
     "text": [
      "<class 'pandas.core.frame.DataFrame'>\n",
      "Int64Index: 164 entries, 1 to 8\n",
      "Data columns (total 19 columns):\n",
      "panel-przyd     25 non-null float64\n",
      "widz            139 non-null object\n",
      "wiek1           73 non-null object\n",
      "prez2-przyd     115 non-null float64\n",
      "panel-future    24 non-null float64\n",
      "znajomosc       37 non-null object\n",
      "freq2           17 non-null object\n",
      "prez1-przyd     115 non-null float64\n",
      "druk            23 non-null object\n",
      "temat           39 non-null object\n",
      "freq1           25 non-null object\n",
      "sex             163 non-null object\n",
      "prez2-przyst    114 non-null float64\n",
      "prez1-przyst    115 non-null float64\n",
      "wiek2           91 non-null object\n",
      "skad            164 non-null object\n",
      "cel             37 non-null object\n",
      "ang             37 non-null object\n",
      "panel-przyst    25 non-null float64\n",
      "dtypes: float64(7), object(12)\n",
      "memory usage: 25.6+ KB\n"
     ]
    }
   ],
   "source": [
    "resp.info()"
   ]
  },
  {
   "cell_type": "code",
   "execution_count": 23,
   "metadata": {},
   "outputs": [
    {
     "data": {
      "text/plain": [
       "3.8859649122807016"
      ]
     },
     "execution_count": 23,
     "metadata": {},
     "output_type": "execute_result"
    }
   ],
   "source": [
    "resp['prez2-przyst'].mean()"
   ]
  },
  {
   "cell_type": "code",
   "execution_count": 44,
   "metadata": {},
   "outputs": [
    {
     "data": {
      "text/plain": [
       "array([<matplotlib.axes._subplots.AxesSubplot object at 0x0000021DF94BAAC8>,\n",
       "       <matplotlib.axes._subplots.AxesSubplot object at 0x0000021DF9576EF0>],\n",
       "      dtype=object)"
      ]
     },
     "execution_count": 44,
     "metadata": {},
     "output_type": "execute_result"
    },
    {
     "data": {
      "image/png": "[encoded data removed]",
      "text/plain": [
       "<Figure size 432x288 with 2 Axes>"
      ]
     },
     "metadata": {
      "needs_background": "light"
     },
     "output_type": "display_data"
    }
   ],
   "source": [
    "resp.hist(column=\"prez2-przyd\",by=\"sex\", bins=5)"
   ]
  },
  {
   "cell_type": "code",
   "execution_count": 53,
   "metadata": {},
   "outputs": [
    {
     "data": {
      "text/plain": [
       "18-30    53\n",
       "31-40    16\n",
       "41-50     4\n",
       "Name: wiek1, dtype: int64"
      ]
     },
     "execution_count": 53,
     "metadata": {},
     "output_type": "execute_result"
    }
   ],
   "source": [
    "resp['wiek1'].value_counts()"
   ]
  },
  {
   "cell_type": "code",
   "execution_count": 62,
   "metadata": {},
   "outputs": [
    {
     "data": {
      "text/plain": [
       "38"
      ]
     },
     "execution_count": 62,
     "metadata": {},
     "output_type": "execute_result"
    }
   ],
   "source": [
    "resp['temat'].nunique()"
   ]
  }
 ],
 "metadata": {
  "kernelspec": {
   "display_name": "Python 3",
   "language": "python",
   "name": "python3"
  },
  "language_info": {
   "codemirror_mode": {
    "name": "ipython",
    "version": 3
   },
   "file_extension": ".py",
   "mimetype": "text/x-python",
   "name": "python",
   "nbconvert_exporter": "python",
   "pygments_lexer": "ipython3",
   "version": "3.7.0"
  }
 },
 "nbformat": 4,
 "nbformat_minor": 2
}
